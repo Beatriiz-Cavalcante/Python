version https://git-lfs.github.com/spec/v1
oid sha256:2b89d728a860400cb1a2bfe6de4e6d16c81b152f59f040b6cd7644ad367239d3
size 171158177
